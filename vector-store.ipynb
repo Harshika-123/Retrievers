{
 "cells": [
  {
   "cell_type": "code",
   "execution_count": 2,
   "id": "cb11d65b",
   "metadata": {},
   "outputs": [],
   "source": [
    "from langchain_community.vectorstores import Chroma\n",
    "from langchain_openai import OpenAIEmbeddings\n",
    "from langchain_core.documents import Document"
   ]
  },
  {
   "cell_type": "code",
   "execution_count": 3,
   "id": "2b6f03d6",
   "metadata": {},
   "outputs": [],
   "source": [
    "documents=[\n",
    "\tDocument(page_content=\"Langchain helps developers build LLm applications easily\"),\n",
    " Document(page_content=\"Chroma is a vector database optimised for LLM-Based search\"),\n",
    " Document(page_content=\"Embeddings convert text into high - dimensional vectors\"),\n",
    " Document(page_content=\"OpenAI provides powerful embedding models\"),\n",
    " \n",
    "]"
   ]
  },
  {
   "cell_type": "code",
   "execution_count": 5,
   "id": "90a03ef1",
   "metadata": {},
   "outputs": [
    {
     "data": {
      "text/plain": [
       "True"
      ]
     },
     "execution_count": 5,
     "metadata": {},
     "output_type": "execute_result"
    }
   ],
   "source": [
    "from dotenv import load_dotenv\n",
    "\n",
    "# Load environment variables from .env file\n",
    "load_dotenv()"
   ]
  },
  {
   "cell_type": "code",
   "execution_count": 6,
   "id": "b4d0e443",
   "metadata": {},
   "outputs": [],
   "source": [
    "embedding_model=OpenAIEmbeddings()\n",
    "vectorstore=Chroma.from_documents(\n",
    "\tdocuments=documents,\n",
    " embedding=embedding_model,\n",
    " collection_name=\"my_collection\"\n",
    ")"
   ]
  },
  {
   "cell_type": "code",
   "execution_count": 7,
   "id": "722cdf11",
   "metadata": {},
   "outputs": [],
   "source": [
    "retriever =vectorstore.as_retriever(search_kwargs={'k':2})"
   ]
  },
  {
   "cell_type": "code",
   "execution_count": 8,
   "id": "b92d816c",
   "metadata": {},
   "outputs": [
    {
     "name": "stdout",
     "output_type": "stream",
     "text": [
      "\n",
      "--Result --1--\n",
      "Chroma is a vector database optimised for LLM-Based search\n",
      "\n",
      "--Result --2--\n",
      "Langchain helps developers build LLm applications easily\n"
     ]
    }
   ],
   "source": [
    "query=\"whta is chroma used for ?\"\n",
    "results= retriever.invoke(query)\n",
    "\n",
    "for i , doc in enumerate(results):\n",
    "    print(f'\\n--Result --{i+1}--')\n",
    "    print(doc.page_content)"
   ]
  },
  {
   "cell_type": "code",
   "execution_count": null,
   "id": "7a6ae8f6",
   "metadata": {},
   "outputs": [],
   "source": []
  }
 ],
 "metadata": {
  "kernelspec": {
   "display_name": "langchain_env",
   "language": "python",
   "name": "python3"
  },
  "language_info": {
   "codemirror_mode": {
    "name": "ipython",
    "version": 3
   },
   "file_extension": ".py",
   "mimetype": "text/x-python",
   "name": "python",
   "nbconvert_exporter": "python",
   "pygments_lexer": "ipython3",
   "version": "3.10.16"
  }
 },
 "nbformat": 4,
 "nbformat_minor": 5
}
